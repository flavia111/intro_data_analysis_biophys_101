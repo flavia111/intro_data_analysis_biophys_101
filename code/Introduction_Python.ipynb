{
  "nbformat": 4,
  "nbformat_minor": 0,
  "metadata": {
    "@webio": {
      "lastCommId": null,
      "lastKernelId": null
    },
    "kernelspec": {
      "display_name": "Python 3",
      "language": "python",
      "name": "python3"
    },
    "language_info": {
      "codemirror_mode": {
        "name": "ipython",
        "version": 3
      },
      "file_extension": ".py",
      "mimetype": "text/x-python",
      "name": "python",
      "nbconvert_exporter": "python",
      "pygments_lexer": "ipython3",
      "version": "3.7.6"
    },
    "colab": {
      "name": "Introduction_Python.ipynb",
      "provenance": [],
      "include_colab_link": true
    }
  },
  "cells": [
    {
      "cell_type": "markdown",
      "metadata": {
        "id": "view-in-github",
        "colab_type": "text"
      },
      "source": [
        "<a href=\"https://colab.research.google.com/github/majahn/intro_data_analysis_biophys_101/blob/main/code/Introduction_Python.ipynb\" target=\"_parent\"><img src=\"https://colab.research.google.com/assets/colab-badge.svg\" alt=\"Open In Colab\"/></a>"
      ]
    },
    {
      "cell_type": "markdown",
      "metadata": {
        "id": "OVCo8BR4ISin"
      },
      "source": [
        "## A whirlwind introduction to `Python`\n",
        "  \n",
        "Python is a multi-purpose programming language that allows you to get going easily. On the other hand, it is used for some of the most advanced machine learning algorithms today. So, if you master even a tiny bit of **Python**, there is a good chance, it will serve you well... ;-) "
      ]
    },
    {
      "cell_type": "markdown",
      "metadata": {
        "id": "Sl5KJudDISin"
      },
      "source": [
        "Like spoken languages, every programming language brings with it a specific culture. Rarely is this made explicit. Python was and is different in this respect. The following piece of code `import this` is something that you can tipe in any python program environement to obtain and ponder the **Zen of Python**"
      ]
    },
    {
      "cell_type": "code",
      "metadata": {
        "id": "_4fG5XKBISin",
        "outputId": "bdc104af-ef2e-41ba-888e-ecd12a85f4f7"
      },
      "source": [
        "import this"
      ],
      "execution_count": null,
      "outputs": [
        {
          "output_type": "stream",
          "text": [
            "The Zen of Python, by Tim Peters\n",
            "\n",
            "Beautiful is better than ugly.\n",
            "Explicit is better than implicit.\n",
            "Simple is better than complex.\n",
            "Complex is better than complicated.\n",
            "Flat is better than nested.\n",
            "Sparse is better than dense.\n",
            "Readability counts.\n",
            "Special cases aren't special enough to break the rules.\n",
            "Although practicality beats purity.\n",
            "Errors should never pass silently.\n",
            "Unless explicitly silenced.\n",
            "In the face of ambiguity, refuse the temptation to guess.\n",
            "There should be one-- and preferably only one --obvious way to do it.\n",
            "Although that way may not be obvious at first unless you're Dutch.\n",
            "Now is better than never.\n",
            "Although never is often better than *right* now.\n",
            "If the implementation is hard to explain, it's a bad idea.\n",
            "If the implementation is easy to explain, it may be a good idea.\n",
            "Namespaces are one honking great idea -- let's do more of those!\n"
          ],
          "name": "stdout"
        }
      ]
    },
    {
      "cell_type": "code",
      "metadata": {
        "id": "reIGVg-NISip"
      },
      "source": [
        "print(this)"
      ],
      "execution_count": null,
      "outputs": []
    },
    {
      "cell_type": "markdown",
      "metadata": {
        "id": "CSRUxP_kISip"
      },
      "source": [
        "## Some essential data structures\n",
        "\n",
        "Python is build around the concepts of `data types` that can do certain things (`methods`, `functions`). To find out what kind of thing you are dealing with, you can use `type(x)`."
      ]
    },
    {
      "cell_type": "code",
      "metadata": {
        "id": "RErgp4SZISip",
        "outputId": "0a250ab6-3c99-48b5-dd7d-ad02e84e9b68"
      },
      "source": [
        "type(3)"
      ],
      "execution_count": null,
      "outputs": [
        {
          "output_type": "execute_result",
          "data": {
            "text/plain": [
              "int"
            ]
          },
          "metadata": {
            "tags": []
          },
          "execution_count": 44
        }
      ]
    },
    {
      "cell_type": "code",
      "metadata": {
        "id": "67b6CGJ9ISip",
        "outputId": "c906cb9e-8ab0-4ed2-85f2-5a4b0b3b0c9a"
      },
      "source": [
        "type(3.2)"
      ],
      "execution_count": null,
      "outputs": [
        {
          "output_type": "execute_result",
          "data": {
            "text/plain": [
              "float"
            ]
          },
          "metadata": {
            "tags": []
          },
          "execution_count": 45
        }
      ]
    },
    {
      "cell_type": "code",
      "metadata": {
        "id": "3mWkeqr4ISip",
        "outputId": "a7f1be87-d2e7-415a-e6f2-a8bf1a392f32"
      },
      "source": [
        "type(\"Hello\")"
      ],
      "execution_count": null,
      "outputs": [
        {
          "output_type": "execute_result",
          "data": {
            "text/plain": [
              "str"
            ]
          },
          "metadata": {
            "tags": []
          },
          "execution_count": 46
        }
      ]
    },
    {
      "cell_type": "markdown",
      "metadata": {
        "id": "KB0imJ__ISip"
      },
      "source": [
        "Let's look at a few basic types in more detail:"
      ]
    },
    {
      "cell_type": "markdown",
      "metadata": {
        "id": "_WPRuSUVISip"
      },
      "source": [
        "### Numbers"
      ]
    },
    {
      "cell_type": "code",
      "metadata": {
        "id": "98uruyDaISip",
        "outputId": "dfba4de0-e622-46be-a2d4-30f54600e359"
      },
      "source": [
        "1 + 3"
      ],
      "execution_count": null,
      "outputs": [
        {
          "output_type": "execute_result",
          "data": {
            "text/plain": [
              "4"
            ]
          },
          "metadata": {
            "tags": []
          },
          "execution_count": 2
        }
      ]
    },
    {
      "cell_type": "code",
      "metadata": {
        "id": "2x4X3Gn2ISip",
        "outputId": "b4c8e5dc-32eb-47e3-87b7-02d89f19294e"
      },
      "source": [
        "1.2 + 43.2"
      ],
      "execution_count": null,
      "outputs": [
        {
          "output_type": "execute_result",
          "data": {
            "text/plain": [
              "44.400000000000006"
            ]
          },
          "metadata": {
            "tags": []
          },
          "execution_count": 3
        }
      ]
    },
    {
      "cell_type": "code",
      "metadata": {
        "id": "L-wqSSLZISiq",
        "outputId": "020ee1b8-2f6d-4881-e71c-7f3f6608742a"
      },
      "source": [
        "32/9"
      ],
      "execution_count": null,
      "outputs": [
        {
          "output_type": "execute_result",
          "data": {
            "text/plain": [
              "3.5555555555555554"
            ]
          },
          "metadata": {
            "tags": []
          },
          "execution_count": 4
        }
      ]
    },
    {
      "cell_type": "code",
      "metadata": {
        "id": "3QKsPmH8ISiq",
        "outputId": "af21b54d-eb57-431a-8136-0bf0f7828a6b"
      },
      "source": [
        "32.8e21"
      ],
      "execution_count": null,
      "outputs": [
        {
          "output_type": "execute_result",
          "data": {
            "text/plain": [
              "3.28e+22"
            ]
          },
          "metadata": {
            "tags": []
          },
          "execution_count": 5
        }
      ]
    },
    {
      "cell_type": "markdown",
      "metadata": {
        "id": "6rQDcTAAISiq"
      },
      "source": [
        "Numbers–as well as other objects–can be assigned to variables, like so:"
      ]
    },
    {
      "cell_type": "code",
      "metadata": {
        "id": "F1cC5X1dISiq"
      },
      "source": [
        "pi = 3.1415"
      ],
      "execution_count": null,
      "outputs": []
    },
    {
      "cell_type": "markdown",
      "metadata": {
        "id": "k4Iuc6wUISiq"
      },
      "source": [
        "And numbers and variables can be used in simple mathematical expressions."
      ]
    },
    {
      "cell_type": "code",
      "metadata": {
        "id": "H00kW2ZzISiq"
      },
      "source": [
        "r = 2.0"
      ],
      "execution_count": null,
      "outputs": []
    },
    {
      "cell_type": "code",
      "metadata": {
        "id": "mzt3na1TISiq",
        "outputId": "5764208d-09db-4fc3-a331-3b2ad6992c4e"
      },
      "source": [
        "pi*r*r"
      ],
      "execution_count": null,
      "outputs": [
        {
          "output_type": "execute_result",
          "data": {
            "text/plain": [
              "12.566"
            ]
          },
          "metadata": {
            "tags": []
          },
          "execution_count": 14
        }
      ]
    },
    {
      "cell_type": "code",
      "metadata": {
        "id": "ZfhtQSQHISiq",
        "outputId": "b295f69a-7bad-4f31-a02c-80fdfd612d22"
      },
      "source": [
        "pi*r**2"
      ],
      "execution_count": null,
      "outputs": [
        {
          "output_type": "execute_result",
          "data": {
            "text/plain": [
              "12.566"
            ]
          },
          "metadata": {
            "tags": []
          },
          "execution_count": 16
        }
      ]
    },
    {
      "cell_type": "markdown",
      "metadata": {
        "id": "0GBWttpKISiq"
      },
      "source": [
        "For \"*real math*\", that means scientific computing with high precision and data analysis there are special libraries that one can use, like [Numpy](https://numpy.org/), [SciPy](https://www.scipy.org/), [SymPy](https://www.sympy.org/en/index.html), [Pandas](https://pandas.pydata.org/) et al."
      ]
    },
    {
      "cell_type": "code",
      "metadata": {
        "id": "KCxhX-9WISiq"
      },
      "source": [
        "import numpy as np\n",
        "import scipy as sc"
      ],
      "execution_count": null,
      "outputs": []
    },
    {
      "cell_type": "code",
      "metadata": {
        "id": "d38ureciISiq",
        "outputId": "d0259638-b6c2-4b45-fdd1-96a8b81448c7"
      },
      "source": [
        "np.pi"
      ],
      "execution_count": null,
      "outputs": [
        {
          "output_type": "execute_result",
          "data": {
            "text/plain": [
              "3.141592653589793"
            ]
          },
          "metadata": {
            "tags": []
          },
          "execution_count": 22
        }
      ]
    },
    {
      "cell_type": "code",
      "metadata": {
        "id": "FDlbG2TXISiq",
        "outputId": "3e10ed2d-21ef-4b5d-ab71-6a02e4c4547a"
      },
      "source": [
        "A = np.pi*r**2\n",
        "A"
      ],
      "execution_count": null,
      "outputs": [
        {
          "output_type": "execute_result",
          "data": {
            "text/plain": [
              "12.566370614359172"
            ]
          },
          "metadata": {
            "tags": []
          },
          "execution_count": 24
        }
      ]
    },
    {
      "cell_type": "markdown",
      "metadata": {
        "id": "snUhkB7fISiq"
      },
      "source": [
        "Special and more complex math functions can be found in `numpy` or `scipy`. \n",
        "\n",
        "\n",
        "For example, at a wavelength of 260 nm, the average extinction coefficient for double-stranded DNA is 0.020 $(\\mu \\mathrm{g}/\\mathrm{ml})^{-1}\\,\\mathrm{~cm}^{-1}$. So, we could calculate the light intensity $I$ after a UV laser of 100 mW passed through 1.5 cm of a 43.2 $(\\mu \\mathrm{g}/\\mathrm{ml})$ DNA solution. \n",
        "\n",
        "$$\n",
        "I(z)=I_{0} e^{-\\epsilon z c}\n",
        "$$"
      ]
    },
    {
      "cell_type": "code",
      "metadata": {
        "id": "9asNCq0CISiq",
        "outputId": "f63b7b31-7bfb-4fdf-b148-ebeeb1e9e39f"
      },
      "source": [
        "# define variables\n",
        "I_0 = 100\n",
        "ϵ = 0.02\n",
        "c = 43.2\n",
        "z = 1.5\n",
        "\n",
        "I = I_0 * np.exp(-ϵ*z*c)\n",
        "\n",
        "print(f\"The intensity after passing through the solution is: {I} mW.\")"
      ],
      "execution_count": null,
      "outputs": [
        {
          "output_type": "stream",
          "text": [
            "The intensity after passing through the solution is: 27.362410337040803 mW.\n"
          ],
          "name": "stdout"
        }
      ]
    },
    {
      "cell_type": "markdown",
      "metadata": {
        "id": "QxWhMuJMISiq"
      },
      "source": [
        "### Strings"
      ]
    },
    {
      "cell_type": "code",
      "metadata": {
        "id": "K-sdqmTiISiq"
      },
      "source": [
        "s = \"this is a string\""
      ],
      "execution_count": null,
      "outputs": []
    },
    {
      "cell_type": "code",
      "metadata": {
        "id": "i3ISBUDtISiq",
        "outputId": "43fae41b-00f7-457a-da2e-ef2ea1ad0a7b"
      },
      "source": [
        "s"
      ],
      "execution_count": null,
      "outputs": [
        {
          "output_type": "execute_result",
          "data": {
            "text/plain": [
              "'this is a string'"
            ]
          },
          "metadata": {
            "tags": []
          },
          "execution_count": 7
        }
      ]
    },
    {
      "cell_type": "code",
      "metadata": {
        "id": "ZkfcWPYjISir",
        "outputId": "193d6899-fdcb-4f4e-b4a3-935b3504ab57"
      },
      "source": [
        "print(s)"
      ],
      "execution_count": null,
      "outputs": [
        {
          "output_type": "stream",
          "text": [
            "this is a string\n"
          ],
          "name": "stdout"
        }
      ]
    },
    {
      "cell_type": "code",
      "metadata": {
        "id": "VBhcZw-1ISir",
        "outputId": "165fd5ed-c4fb-4962-ca06-d7c39998913c"
      },
      "source": [
        "# print can take a formated, or f-string to nicely print a formated variable\n",
        "print(f\"The area of our circle is {A}.\")"
      ],
      "execution_count": null,
      "outputs": [
        {
          "output_type": "stream",
          "text": [
            "The area of our circle is 12.566370614359172.\n"
          ],
          "name": "stdout"
        }
      ]
    },
    {
      "cell_type": "code",
      "metadata": {
        "id": "26L2P7Q2ISir",
        "outputId": "ff3a377a-22f4-48d3-a2b6-fa7e683df6cc"
      },
      "source": [
        "print(f\"The approximate area of our circle was {pi*r**2}.\")"
      ],
      "execution_count": null,
      "outputs": [
        {
          "output_type": "stream",
          "text": [
            "The approximate area of our circle was 12.566.\n"
          ],
          "name": "stdout"
        }
      ]
    },
    {
      "cell_type": "markdown",
      "metadata": {
        "id": "obeZTBN9ISir"
      },
      "source": [
        "Strings are `objects` and objects can have `methods`. These are some concepts of **object-oriented programming** (OOP). Here are a few things you can do with *every* string in python."
      ]
    },
    {
      "cell_type": "code",
      "metadata": {
        "id": "d66AWzCFISir"
      },
      "source": [
        "statement = \"Biophysics it totally boring!\""
      ],
      "execution_count": null,
      "outputs": []
    },
    {
      "cell_type": "code",
      "metadata": {
        "id": "Ub7_w_jlISir",
        "outputId": "49d9764f-99b3-4051-c585-2780589424a7"
      },
      "source": [
        "statement.replace(\"boring\", \"awesome\")"
      ],
      "execution_count": null,
      "outputs": [
        {
          "output_type": "execute_result",
          "data": {
            "text/plain": [
              "'Biophysics it totally awesome!'"
            ]
          },
          "metadata": {
            "tags": []
          },
          "execution_count": 34
        }
      ]
    },
    {
      "cell_type": "code",
      "metadata": {
        "id": "o60nMqCwISir",
        "outputId": "ca78295e-cf79-427b-e4b6-f5d8758efd2c"
      },
      "source": [
        "statement.startswith(\"Rocket\")"
      ],
      "execution_count": null,
      "outputs": [
        {
          "output_type": "execute_result",
          "data": {
            "text/plain": [
              "False"
            ]
          },
          "metadata": {
            "tags": []
          },
          "execution_count": 35
        }
      ]
    },
    {
      "cell_type": "code",
      "metadata": {
        "id": "cxduo0mpISir",
        "outputId": "04c6c4b8-b187-4c03-922c-4f8d74db3e64"
      },
      "source": [
        "statement.startswith(\"B\")"
      ],
      "execution_count": null,
      "outputs": [
        {
          "output_type": "execute_result",
          "data": {
            "text/plain": [
              "True"
            ]
          },
          "metadata": {
            "tags": []
          },
          "execution_count": 36
        }
      ]
    },
    {
      "cell_type": "code",
      "metadata": {
        "id": "OWbshr8hISir",
        "outputId": "d976552c-83b9-4651-9177-fe4b9342c273"
      },
      "source": [
        "statement.startswith(\"b\")"
      ],
      "execution_count": null,
      "outputs": [
        {
          "output_type": "execute_result",
          "data": {
            "text/plain": [
              "False"
            ]
          },
          "metadata": {
            "tags": []
          },
          "execution_count": 37
        }
      ]
    },
    {
      "cell_type": "code",
      "metadata": {
        "id": "mnQ5rYV-ISir",
        "outputId": "0c2fff2f-d2d9-4523-b1a4-552e626ca1c3"
      },
      "source": [
        "statement.endswith(\"!\")"
      ],
      "execution_count": null,
      "outputs": [
        {
          "output_type": "execute_result",
          "data": {
            "text/plain": [
              "True"
            ]
          },
          "metadata": {
            "tags": []
          },
          "execution_count": 38
        }
      ]
    },
    {
      "cell_type": "code",
      "metadata": {
        "id": "Ho2NkMuYISir",
        "outputId": "b2980fea-06ec-4cbd-b390-2dd036c0806a"
      },
      "source": [
        "statement.upper()"
      ],
      "execution_count": null,
      "outputs": [
        {
          "output_type": "execute_result",
          "data": {
            "text/plain": [
              "'BIOPHYSICS IT TOTALLY BORING!'"
            ]
          },
          "metadata": {
            "tags": []
          },
          "execution_count": 40
        }
      ]
    },
    {
      "cell_type": "markdown",
      "metadata": {
        "id": "vZCElykHISir"
      },
      "source": [
        "The result of every string method is again a string, so methods can be `chained`. Just type '.' and press `TAB` to see what you can do:"
      ]
    },
    {
      "cell_type": "code",
      "metadata": {
        "id": "4UXGRbUcISir",
        "outputId": "c6310708-780b-4e56-ca8f-88dd0eeefa58"
      },
      "source": [
        "statement.replace(\"boring\", \"awesome\").upper()"
      ],
      "execution_count": null,
      "outputs": [
        {
          "output_type": "execute_result",
          "data": {
            "text/plain": [
              "'BIOPHYSICS IT TOTALLY AWESOME!'"
            ]
          },
          "metadata": {
            "tags": []
          },
          "execution_count": 41
        }
      ]
    },
    {
      "cell_type": "code",
      "metadata": {
        "id": "ItQmQ3tqISir",
        "outputId": "b4379dcd-6b35-442e-eb33-c477678e1a1f"
      },
      "source": [
        "statement.replace(\"boring\", \"awesome\").upper().count('I')"
      ],
      "execution_count": null,
      "outputs": [
        {
          "output_type": "execute_result",
          "data": {
            "text/plain": [
              "3"
            ]
          },
          "metadata": {
            "tags": []
          },
          "execution_count": 42
        }
      ]
    },
    {
      "cell_type": "markdown",
      "metadata": {
        "id": "eqDnNv5OISir"
      },
      "source": [
        "### Lists"
      ]
    },
    {
      "cell_type": "code",
      "metadata": {
        "id": "EfI6juQrISir",
        "outputId": "24576406-e11b-4744-c921-fd1ccaa316c8"
      },
      "source": [
        "a_list = [1, 2, 3, 4]\n",
        "type(a_list)"
      ],
      "execution_count": null,
      "outputs": [
        {
          "output_type": "execute_result",
          "data": {
            "text/plain": [
              "list"
            ]
          },
          "metadata": {
            "tags": []
          },
          "execution_count": 72
        }
      ]
    },
    {
      "cell_type": "markdown",
      "metadata": {
        "id": "1CeTRzJ7ISir"
      },
      "source": [
        "Any Python expression can be inside a list (including another list!):"
      ]
    },
    {
      "cell_type": "code",
      "metadata": {
        "id": "6MQmIkkDISis",
        "outputId": "59cd7962-0d10-4cff-c19e-fa9df114aa72"
      },
      "source": [
        "b_list = [-1, 2.4, 'a word', ['a string in another list', 5]]\n",
        "b_list"
      ],
      "execution_count": null,
      "outputs": [
        {
          "output_type": "execute_result",
          "data": {
            "text/plain": [
              "[-1, 2.4, 'a word', ['a string in another list', 5]]"
            ]
          },
          "metadata": {
            "tags": []
          },
          "execution_count": 75
        }
      ]
    },
    {
      "cell_type": "markdown",
      "metadata": {
        "id": "iy3N7bO6ISis"
      },
      "source": [
        "#### List indexing: getting something out of a list\n",
        "\n",
        "An item of a list can be accessed with `square brackets`."
      ]
    },
    {
      "cell_type": "code",
      "metadata": {
        "id": "51kZ00wEISis",
        "outputId": "b8a33396-05cb-4865-9c58-6cb686f9cadc"
      },
      "source": [
        "a_list[1]"
      ],
      "execution_count": null,
      "outputs": [
        {
          "output_type": "execute_result",
          "data": {
            "text/plain": [
              "2"
            ]
          },
          "metadata": {
            "tags": []
          },
          "execution_count": 76
        }
      ]
    },
    {
      "cell_type": "markdown",
      "metadata": {
        "id": "gClsLcL-ISis"
      },
      "source": [
        "What?"
      ]
    },
    {
      "cell_type": "code",
      "metadata": {
        "id": "RUXYoXAbISis",
        "outputId": "d33bf30a-559f-46ee-d2f2-9d0bbc0d0521"
      },
      "source": [
        "a_list[0]"
      ],
      "execution_count": null,
      "outputs": [
        {
          "output_type": "execute_result",
          "data": {
            "text/plain": [
              "1"
            ]
          },
          "metadata": {
            "tags": []
          },
          "execution_count": 77
        }
      ]
    },
    {
      "cell_type": "markdown",
      "metadata": {
        "id": "WYvzMZqNISis"
      },
      "source": [
        "As you can see, **indexing in Python starts at zero**! This will bite you several times, but once you get used to this, it becomes just another convention. There are good arguments to start an index (a count) either at `1` or at `0`. Both are valid. For example, think about how **time** is counted after midnight: We say \"0:12 Uhr\" during the first hour of the day.\n",
        "\n",
        "Now, let's do a bit more with lists:"
      ]
    },
    {
      "cell_type": "code",
      "metadata": {
        "id": "8H4ukJMwISis"
      },
      "source": [
        "# create a long list of integers\n",
        "naive_long_list = [1, 2, 3, 4, 5, 6, 7, 8, 9, 10, 11, 12, 13, 14, 15, 16, 17, 18, 19, 20]\n",
        "\n",
        "clever_long_list = list(range(1,21))"
      ],
      "execution_count": null,
      "outputs": []
    },
    {
      "cell_type": "code",
      "metadata": {
        "id": "QWRz2wc9ISis",
        "outputId": "0bef3847-18f7-4f96-c720-e71915122594"
      },
      "source": [
        "print(naive_long_list)"
      ],
      "execution_count": null,
      "outputs": [
        {
          "output_type": "stream",
          "text": [
            "[1, 2, 3, 4, 5, 6, 7, 8, 9, 10, 11, 12, 13, 14, 15, 16, 17, 18, 19, 20]\n"
          ],
          "name": "stdout"
        }
      ]
    },
    {
      "cell_type": "code",
      "metadata": {
        "id": "Eeg61D2HISis",
        "outputId": "50d6b8d3-941f-4e0c-8438-ae533120f90d"
      },
      "source": [
        "print(clever_long_list)"
      ],
      "execution_count": null,
      "outputs": [
        {
          "output_type": "stream",
          "text": [
            "[1, 2, 3, 4, 5, 6, 7, 8, 9, 10, 11, 12, 13, 14, 15, 16, 17, 18, 19, 20]\n"
          ],
          "name": "stdout"
        }
      ]
    },
    {
      "cell_type": "markdown",
      "metadata": {
        "id": "fkIwanIbISis"
      },
      "source": [
        " #### Slicing"
      ]
    },
    {
      "cell_type": "code",
      "metadata": {
        "id": "RDLXSn6kISis",
        "outputId": "330fbd16-d501-4cf9-ab9d-bab3ec75b164"
      },
      "source": [
        "l = clever_long_list\n",
        "l[0:4]"
      ],
      "execution_count": null,
      "outputs": [
        {
          "output_type": "execute_result",
          "data": {
            "text/plain": [
              "[1, 2, 3, 4]"
            ]
          },
          "metadata": {
            "tags": []
          },
          "execution_count": 102
        }
      ]
    },
    {
      "cell_type": "code",
      "metadata": {
        "id": "f6i6gPEAISis",
        "outputId": "150cf179-2f26-439d-e552-7507890a5427"
      },
      "source": [
        "l[-3]"
      ],
      "execution_count": null,
      "outputs": [
        {
          "output_type": "execute_result",
          "data": {
            "text/plain": [
              "18"
            ]
          },
          "metadata": {
            "tags": []
          },
          "execution_count": 104
        }
      ]
    },
    {
      "cell_type": "code",
      "metadata": {
        "id": "bNOv4GrZISis",
        "outputId": "d96f5b22-06e8-4022-bb24-ad282a076a2c"
      },
      "source": [
        "# only get every third element\n",
        "l[0::3]"
      ],
      "execution_count": null,
      "outputs": [
        {
          "output_type": "execute_result",
          "data": {
            "text/plain": [
              "[1, 4, 7, 10, 13, 16, 19]"
            ]
          },
          "metadata": {
            "tags": []
          },
          "execution_count": 106
        }
      ]
    },
    {
      "cell_type": "code",
      "metadata": {
        "id": "ngYVuInbISis",
        "outputId": "36964bf4-c789-4fca-e1a9-425b63186fc3"
      },
      "source": [
        "# What is this doing?\n",
        "l[3:17:4]"
      ],
      "execution_count": null,
      "outputs": [
        {
          "output_type": "execute_result",
          "data": {
            "text/plain": [
              "[4, 8, 12, 16]"
            ]
          },
          "metadata": {
            "tags": []
          },
          "execution_count": 110
        }
      ]
    },
    {
      "cell_type": "markdown",
      "metadata": {
        "id": "ctmxzz32ISis"
      },
      "source": [
        "#### Iterating\n",
        "\n",
        "Lists can be iterated over in a `for-loop`:"
      ]
    },
    {
      "cell_type": "code",
      "metadata": {
        "id": "Co2qGC4lISis",
        "outputId": "4e840535-3e3c-488b-e629-173aae1c7d46"
      },
      "source": [
        "for i in a_list:\n",
        "    print(i)"
      ],
      "execution_count": null,
      "outputs": [
        {
          "output_type": "stream",
          "text": [
            "1\n",
            "2\n",
            "3\n",
            "4\n"
          ],
          "name": "stdout"
        }
      ]
    },
    {
      "cell_type": "markdown",
      "metadata": {
        "id": "kGt_SEwhISis"
      },
      "source": [
        "This can lead to very clean and informative code:"
      ]
    },
    {
      "cell_type": "code",
      "metadata": {
        "id": "5Zx2MXoxISis",
        "outputId": "f6db9c9f-b6bd-42cb-851c-7e2141c09640"
      },
      "source": [
        "cities = [\"New York\", \"Berlin\", \"Paris\", \"Bielefeld\", \"Oslo\"]\n",
        "\n",
        "for city in cities:\n",
        "    print(f\"I love {city}!\")"
      ],
      "execution_count": null,
      "outputs": [
        {
          "output_type": "stream",
          "text": [
            "I love New York!\n",
            "I love Berlin!\n",
            "I love Paris!\n",
            "I love Bielefeld!\n",
            "I love Oslo!\n"
          ],
          "name": "stdout"
        }
      ]
    },
    {
      "cell_type": "markdown",
      "metadata": {
        "id": "ZzQho70GISit"
      },
      "source": [
        "#### Comprehension\n",
        "\n",
        "`List comprehensions` are a very **pythonic** way of doing something with items in a list"
      ]
    },
    {
      "cell_type": "code",
      "metadata": {
        "id": "mBCaCz9sISit",
        "outputId": "03fa969c-aacd-400a-cd1d-60791bd45960"
      },
      "source": [
        "[s.upper() for s in cities]"
      ],
      "execution_count": null,
      "outputs": [
        {
          "output_type": "execute_result",
          "data": {
            "text/plain": [
              "['NEW YORK', 'BERLIN', 'PARIS', 'BIELEFELD', 'OSLO']"
            ]
          },
          "metadata": {
            "tags": []
          },
          "execution_count": 115
        }
      ]
    },
    {
      "cell_type": "code",
      "metadata": {
        "id": "PAaDOO4PISit",
        "outputId": "d6848eec-985d-4d3b-f248-99c6a0791b37"
      },
      "source": [
        "[i**2 for i in clever_long_list if i in [3, 5, 12]]"
      ],
      "execution_count": null,
      "outputs": [
        {
          "output_type": "execute_result",
          "data": {
            "text/plain": [
              "[9, 25, 144]"
            ]
          },
          "metadata": {
            "tags": []
          },
          "execution_count": 133
        }
      ]
    },
    {
      "cell_type": "markdown",
      "metadata": {
        "id": "2xvVzLu8ISit"
      },
      "source": [
        "#### Tuples are the `safe` cousins of lists"
      ]
    },
    {
      "cell_type": "code",
      "metadata": {
        "id": "-i7e6TATISit"
      },
      "source": [
        "t1 = tuple(range(7))"
      ],
      "execution_count": null,
      "outputs": []
    },
    {
      "cell_type": "code",
      "metadata": {
        "id": "zmMToMMAISit",
        "outputId": "e54b8a89-8ffe-4db9-c8d1-e13221db55b4"
      },
      "source": [
        "t1"
      ],
      "execution_count": null,
      "outputs": [
        {
          "output_type": "execute_result",
          "data": {
            "text/plain": [
              "(0, 1, 2, 3, 4, 5, 6)"
            ]
          },
          "metadata": {
            "tags": []
          },
          "execution_count": 135
        }
      ]
    },
    {
      "cell_type": "code",
      "metadata": {
        "id": "7C3gYOklISit"
      },
      "source": [
        "l1 = list(range(7))"
      ],
      "execution_count": null,
      "outputs": []
    },
    {
      "cell_type": "code",
      "metadata": {
        "id": "Nqqi3f_kISit",
        "outputId": "512772a7-836c-40a8-92d9-46df19253e0c"
      },
      "source": [
        "l1"
      ],
      "execution_count": null,
      "outputs": [
        {
          "output_type": "execute_result",
          "data": {
            "text/plain": [
              "[0, 1, 2, 3, 4, 5, 6]"
            ]
          },
          "metadata": {
            "tags": []
          },
          "execution_count": 137
        }
      ]
    },
    {
      "cell_type": "code",
      "metadata": {
        "id": "suYOdpGfISit",
        "outputId": "61c0cc68-730d-4096-cc6b-589028bdc9ae"
      },
      "source": [
        "t1[4]"
      ],
      "execution_count": null,
      "outputs": [
        {
          "output_type": "execute_result",
          "data": {
            "text/plain": [
              "4"
            ]
          },
          "metadata": {
            "tags": []
          },
          "execution_count": 138
        }
      ]
    },
    {
      "cell_type": "code",
      "metadata": {
        "id": "8ScE0QX4ISit",
        "outputId": "048945bb-b128-4e97-c32a-736f1804ae05"
      },
      "source": [
        "l1[4]"
      ],
      "execution_count": null,
      "outputs": [
        {
          "output_type": "execute_result",
          "data": {
            "text/plain": [
              "4"
            ]
          },
          "metadata": {
            "tags": []
          },
          "execution_count": 139
        }
      ]
    },
    {
      "cell_type": "markdown",
      "metadata": {
        "id": "7VPxzzizISit"
      },
      "source": [
        "Looks very much the same. But be aware of the following:"
      ]
    },
    {
      "cell_type": "code",
      "metadata": {
        "id": "DbGDZZqNISit"
      },
      "source": [
        "l1[4] = \"kaputt\""
      ],
      "execution_count": null,
      "outputs": []
    },
    {
      "cell_type": "code",
      "metadata": {
        "id": "SvzGfzOuISit",
        "outputId": "bb073af5-11da-401a-e0ca-929840a018a2"
      },
      "source": [
        "l1"
      ],
      "execution_count": null,
      "outputs": [
        {
          "output_type": "execute_result",
          "data": {
            "text/plain": [
              "[0, 1, 2, 3, 'kaputt', 5, 6]"
            ]
          },
          "metadata": {
            "tags": []
          },
          "execution_count": 141
        }
      ]
    },
    {
      "cell_type": "code",
      "metadata": {
        "id": "W-jy-_MhISit",
        "outputId": "266f2332-97c6-4776-d998-b82abdf61ac9"
      },
      "source": [
        "t1[4] = \"kaputt\""
      ],
      "execution_count": null,
      "outputs": [
        {
          "output_type": "error",
          "ename": "TypeError",
          "evalue": "'tuple' object does not support item assignment",
          "traceback": [
            "\u001b[0;31m---------------------------------------------------------------------------\u001b[0m",
            "\u001b[0;31mTypeError\u001b[0m                                 Traceback (most recent call last)",
            "\u001b[0;32m<ipython-input-142-0039d3b4edbd>\u001b[0m in \u001b[0;36m<module>\u001b[0;34m\u001b[0m\n\u001b[0;32m----> 1\u001b[0;31m \u001b[0mt1\u001b[0m\u001b[0;34m[\u001b[0m\u001b[0;36m4\u001b[0m\u001b[0;34m]\u001b[0m \u001b[0;34m=\u001b[0m \u001b[0;34m\"kaputt\"\u001b[0m\u001b[0;34m\u001b[0m\u001b[0;34m\u001b[0m\u001b[0m\n\u001b[0m",
            "\u001b[0;31mTypeError\u001b[0m: 'tuple' object does not support item assignment"
          ]
        }
      ]
    },
    {
      "cell_type": "markdown",
      "metadata": {
        "id": "MnN6Agw8ISit"
      },
      "source": [
        "Lists are `mutable`, tuples are not! This makes tuples a better alternative for most use cases. You can not overwrite your data by accident. If you want to change a tuple you need to copy it to a new tuple object, for example with a tuple comprehension:"
      ]
    },
    {
      "cell_type": "code",
      "metadata": {
        "id": "zFaKIwYyISit"
      },
      "source": [
        "\n",
        "new_tuple = tuple(i*3 if i != 4 else \"kaputt\" for i in t1)"
      ],
      "execution_count": null,
      "outputs": []
    },
    {
      "cell_type": "code",
      "metadata": {
        "id": "uWf6FtlmISit",
        "outputId": "06420d1b-38b9-4f67-9156-f8db5d4d5618"
      },
      "source": [
        "new_tuple"
      ],
      "execution_count": null,
      "outputs": [
        {
          "output_type": "execute_result",
          "data": {
            "text/plain": [
              "(0, 3, 6, 9, 'kaputt', 15, 18)"
            ]
          },
          "metadata": {
            "tags": []
          },
          "execution_count": 155
        }
      ]
    },
    {
      "cell_type": "markdown",
      "metadata": {
        "id": "UuoXjzjAISit"
      },
      "source": [
        "### Dictionary\n",
        "\n",
        "Dictionaries are great at storing `key-value` pairs. So, they are a first step to create **structured data**."
      ]
    },
    {
      "cell_type": "code",
      "metadata": {
        "id": "p0OlZtqLISit"
      },
      "source": [
        "some_codons = {\"GCU\": \"Ala\", \n",
        "               \"GAU\": \"Asp\",\n",
        "               \"CAG\": \"Gln\",\n",
        "               \"CAU\": \"His\"}"
      ],
      "execution_count": null,
      "outputs": []
    },
    {
      "cell_type": "code",
      "metadata": {
        "id": "z7K-ZtOXISit",
        "outputId": "1c5f3520-4d95-4f45-d6d5-7bf0467667a9"
      },
      "source": [
        "some_codons[\"GCU\"]"
      ],
      "execution_count": null,
      "outputs": [
        {
          "output_type": "execute_result",
          "data": {
            "text/plain": [
              "'Ala'"
            ]
          },
          "metadata": {
            "tags": []
          },
          "execution_count": 157
        }
      ]
    },
    {
      "cell_type": "markdown",
      "metadata": {
        "id": "W7XOIJIoISit"
      },
      "source": [
        "We can also iterate over dictionaries, like so:"
      ]
    },
    {
      "cell_type": "code",
      "metadata": {
        "id": "wVS-Z-faISit",
        "outputId": "d25e84ce-ff65-404d-98e2-ac15d62cb3ba"
      },
      "source": [
        "for key, value in some_codons.items():\n",
        "    print(key, value)"
      ],
      "execution_count": null,
      "outputs": [
        {
          "output_type": "stream",
          "text": [
            "GCU Ala\n",
            "GAU Asp\n",
            "CAG Gln\n",
            "CAU His\n"
          ],
          "name": "stdout"
        }
      ]
    },
    {
      "cell_type": "markdown",
      "metadata": {
        "id": "KYS-V_Q7ISiu"
      },
      "source": [
        "Or better... remember the Zen..."
      ]
    },
    {
      "cell_type": "code",
      "metadata": {
        "id": "uqfr0gboISiu",
        "outputId": "7071bcbc-0ef5-49e4-ea59-4ede14e6bee8"
      },
      "source": [
        "for codon, amino_acid in some_codons.items():\n",
        "    print(f\"The codon {codon} codes for the amino acid {amino_acid}.\")"
      ],
      "execution_count": null,
      "outputs": [
        {
          "output_type": "stream",
          "text": [
            "The codon GCU codes for the amino acid Ala.\n",
            "The codon GAU codes for the amino acid Asp.\n",
            "The codon CAG codes for the amino acid Gln.\n",
            "The codon CAU codes for the amino acid His.\n"
          ],
          "name": "stdout"
        }
      ]
    },
    {
      "cell_type": "markdown",
      "metadata": {
        "id": "_col6ZGdISiu"
      },
      "source": [
        "# Programming\n",
        "\n",
        "The idea behing `programming` is that of `devide and conquer`, i.e. to solve large complex problems step by step by solving small problems and then building something larger and large, while taking advantage of all the previous solutions. Two main concepts that you will encounter are `functions` on the one hand and `classes and objects` on the other hand."
      ]
    },
    {
      "cell_type": "markdown",
      "metadata": {
        "id": "E2NXzVmAISiu"
      },
      "source": [
        "### Functions"
      ]
    },
    {
      "cell_type": "code",
      "metadata": {
        "id": "r5qEp-XnISiu"
      },
      "source": [
        "def our_first_function():\n",
        "    return 3"
      ],
      "execution_count": null,
      "outputs": []
    },
    {
      "cell_type": "code",
      "metadata": {
        "id": "bez1uLrgISiu",
        "outputId": "e0b57b8f-7b49-481a-d214-64c82f956c3d"
      },
      "source": [
        "our_first_function()"
      ],
      "execution_count": null,
      "outputs": [
        {
          "output_type": "execute_result",
          "data": {
            "text/plain": [
              "3"
            ]
          },
          "metadata": {
            "tags": []
          },
          "execution_count": 161
        }
      ]
    },
    {
      "cell_type": "code",
      "metadata": {
        "id": "KrFsymFMISiu"
      },
      "source": [
        "def useful_function(x = 4):\n",
        "    z = x**3 + np.sin(x)\n",
        "    return z"
      ],
      "execution_count": null,
      "outputs": []
    },
    {
      "cell_type": "code",
      "metadata": {
        "id": "WUAtio8XISiu",
        "outputId": "d63d9e85-cddf-44f6-d943-336c15cc15ab"
      },
      "source": [
        "useful_function()"
      ],
      "execution_count": null,
      "outputs": [
        {
          "output_type": "execute_result",
          "data": {
            "text/plain": [
              "63.24319750469207"
            ]
          },
          "metadata": {
            "tags": []
          },
          "execution_count": 163
        }
      ]
    },
    {
      "cell_type": "code",
      "metadata": {
        "id": "TzawelLAISiu",
        "outputId": "ee6ae677-9446-4ea1-9b96-12b53d994aca"
      },
      "source": [
        "# with different input\n",
        "useful_function(14.3)"
      ],
      "execution_count": null,
      "outputs": [
        {
          "output_type": "execute_result",
          "data": {
            "text/plain": [
              "2925.193771964275"
            ]
          },
          "metadata": {
            "tags": []
          },
          "execution_count": 164
        }
      ]
    },
    {
      "cell_type": "code",
      "metadata": {
        "id": "J58sP_u1ISiu",
        "outputId": "dce29127-110f-4337-d148-d8c80276e33e"
      },
      "source": [
        "useful_function(\"hello\")"
      ],
      "execution_count": null,
      "outputs": [
        {
          "output_type": "error",
          "ename": "TypeError",
          "evalue": "unsupported operand type(s) for ** or pow(): 'str' and 'int'",
          "traceback": [
            "\u001b[0;31m---------------------------------------------------------------------------\u001b[0m",
            "\u001b[0;31mTypeError\u001b[0m                                 Traceback (most recent call last)",
            "\u001b[0;32m<ipython-input-165-b18b71d0dafe>\u001b[0m in \u001b[0;36m<module>\u001b[0;34m\u001b[0m\n\u001b[0;32m----> 1\u001b[0;31m \u001b[0museful_function\u001b[0m\u001b[0;34m(\u001b[0m\u001b[0;34m\"hello\"\u001b[0m\u001b[0;34m)\u001b[0m\u001b[0;34m\u001b[0m\u001b[0;34m\u001b[0m\u001b[0m\n\u001b[0m",
            "\u001b[0;32m<ipython-input-162-cd4396786c1c>\u001b[0m in \u001b[0;36museful_function\u001b[0;34m(x)\u001b[0m\n\u001b[1;32m      1\u001b[0m \u001b[0;32mdef\u001b[0m \u001b[0museful_function\u001b[0m\u001b[0;34m(\u001b[0m\u001b[0mx\u001b[0m \u001b[0;34m=\u001b[0m \u001b[0;36m4\u001b[0m\u001b[0;34m)\u001b[0m\u001b[0;34m:\u001b[0m\u001b[0;34m\u001b[0m\u001b[0;34m\u001b[0m\u001b[0m\n\u001b[0;32m----> 2\u001b[0;31m     \u001b[0mz\u001b[0m \u001b[0;34m=\u001b[0m \u001b[0mx\u001b[0m\u001b[0;34m**\u001b[0m\u001b[0;36m3\u001b[0m \u001b[0;34m+\u001b[0m \u001b[0mnp\u001b[0m\u001b[0;34m.\u001b[0m\u001b[0msin\u001b[0m\u001b[0;34m(\u001b[0m\u001b[0mx\u001b[0m\u001b[0;34m)\u001b[0m\u001b[0;34m\u001b[0m\u001b[0;34m\u001b[0m\u001b[0m\n\u001b[0m\u001b[1;32m      3\u001b[0m     \u001b[0;32mreturn\u001b[0m \u001b[0mz\u001b[0m\u001b[0;34m\u001b[0m\u001b[0;34m\u001b[0m\u001b[0m\n",
            "\u001b[0;31mTypeError\u001b[0m: unsupported operand type(s) for ** or pow(): 'str' and 'int'"
          ]
        }
      ]
    },
    {
      "cell_type": "markdown",
      "metadata": {
        "id": "-UW1Pa_wISiu"
      },
      "source": [
        "### Classes\n",
        "\n",
        "Classes are blueprints for objects that can hold both data (fields, attributes) and functionality (methods)."
      ]
    },
    {
      "cell_type": "code",
      "metadata": {
        "id": "jyor8hDMISiu"
      },
      "source": [
        "class Book:\n",
        "    def __init__(self, name, author, year):\n",
        "        self.name = name\n",
        "        self.author = author\n",
        "        self.year = year\n",
        "        \n",
        "    def time_since_published(self, now=2020):\n",
        "        age = now - self.year\n",
        "        print(f\"The book is {age} years old.\")"
      ],
      "execution_count": null,
      "outputs": []
    },
    {
      "cell_type": "code",
      "metadata": {
        "id": "mVSajeGjISiu"
      },
      "source": [
        "a_book = Book(\"The Origin Of Species\", \"Charles Darwin\", 1859)"
      ],
      "execution_count": null,
      "outputs": []
    },
    {
      "cell_type": "code",
      "metadata": {
        "id": "ph9uzsIGISiu",
        "outputId": "4068ceb2-7cd4-48bb-9cd0-98586e6b17f7"
      },
      "source": [
        "a_book.time_since_published()"
      ],
      "execution_count": null,
      "outputs": [
        {
          "output_type": "stream",
          "text": [
            "The book is 161 years old.\n"
          ],
          "name": "stdout"
        }
      ]
    }
  ]
}